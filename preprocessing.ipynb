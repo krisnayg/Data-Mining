{
  "nbformat": 4,
  "nbformat_minor": 0,
  "metadata": {
    "colab": {
      "name": "preprocessing.ipynb",
      "provenance": [],
      "toc_visible": true,
      "authorship_tag": "ABX9TyNQ9s1+73zZee7NFKk73qXQ"
    },
    "kernelspec": {
      "name": "python3",
      "display_name": "Python 3"
    }
  },
  "cells": [
    {
      "cell_type": "code",
      "metadata": {
        "id": "lNUn5yXApGfW"
      },
      "source": [
        "import numpy as np\r\n",
        "import matplotlib.pyplot as plt\r\n",
        "import pandas as pd"
      ],
      "execution_count": null,
      "outputs": []
    },
    {
      "cell_type": "code",
      "metadata": {
        "id": "RH80umXspkVa"
      },
      "source": [
        "dataset = pd.read_csv('Data.csv')\r\n",
        "x = dataset.iloc[:, :-1].values\r\n",
        "y = dataset.iloc[:, -1].values"
      ],
      "execution_count": null,
      "outputs": []
    },
    {
      "cell_type": "code",
      "metadata": {
        "colab": {
          "base_uri": "https://localhost:8080/"
        },
        "id": "51XweT0rp1rg",
        "outputId": "2c2bc368-7319-48a5-8d52-6a0d86bea90b"
      },
      "source": [
        "print(x)"
      ],
      "execution_count": null,
      "outputs": [
        {
          "output_type": "stream",
          "text": [
            "[['Jateng' 21.0 72000.0]\n",
            " ['Jabar' 22.0 48000.0]\n",
            " ['Jatim' 22.0 54000.0]\n",
            " ['Jabar' 24.0 61000.0]\n",
            " ['Jateng' 21.0 nan]\n",
            " ['Jatim' 24.0 58000.0]\n",
            " ['Jateng' nan 52000.0]\n",
            " ['Jabar' 25.0 79000.0]\n",
            " ['Jatim' 23.0 83000.0]\n",
            " ['Jateng' 21.0 67000.0]]\n"
          ],
          "name": "stdout"
        }
      ]
    },
    {
      "cell_type": "code",
      "metadata": {
        "colab": {
          "base_uri": "https://localhost:8080/"
        },
        "id": "soPFpEXTqO8S",
        "outputId": "3df8bb08-bba9-4691-956e-88158077c524"
      },
      "source": [
        "print(y)"
      ],
      "execution_count": null,
      "outputs": [
        {
          "output_type": "stream",
          "text": [
            "['No' 'Yes' 'No' 'No' 'Yes' 'Yes' 'No' 'Yes' 'No' 'Yes']\n"
          ],
          "name": "stdout"
        }
      ]
    },
    {
      "cell_type": "code",
      "metadata": {
        "id": "ZvztsAe6qWe4"
      },
      "source": [
        "from sklearn.impute import SimpleImputer\r\n",
        "imputer = SimpleImputer(missing_values=np.nan, strategy='mean')\r\n",
        "imputer.fit(x[:, 1:3])\r\n",
        "x[:, 1:3] = imputer.transform(x[:, 1:3])"
      ],
      "execution_count": null,
      "outputs": []
    },
    {
      "cell_type": "code",
      "metadata": {
        "colab": {
          "base_uri": "https://localhost:8080/"
        },
        "id": "pijGKZu8rE6D",
        "outputId": "462052e4-fdc1-4067-de0c-3674eb2048ac"
      },
      "source": [
        "print(x)"
      ],
      "execution_count": null,
      "outputs": [
        {
          "output_type": "stream",
          "text": [
            "[['Jateng' 21.0 72000.0]\n",
            " ['Jabar' 22.0 48000.0]\n",
            " ['Jatim' 22.0 54000.0]\n",
            " ['Jabar' 24.0 61000.0]\n",
            " ['Jateng' 21.0 63777.77777777778]\n",
            " ['Jatim' 24.0 58000.0]\n",
            " ['Jateng' 22.555555555555557 52000.0]\n",
            " ['Jabar' 25.0 79000.0]\n",
            " ['Jatim' 23.0 83000.0]\n",
            " ['Jateng' 21.0 67000.0]]\n"
          ],
          "name": "stdout"
        }
      ]
    },
    {
      "cell_type": "code",
      "metadata": {
        "id": "dfCi6u4Qrh2g"
      },
      "source": [
        "from sklearn.compose import ColumnTransformer\r\n",
        "from sklearn.preprocessing import OneHotEncoder\r\n",
        "ct = ColumnTransformer(transformers=[('encoder', OneHotEncoder(), [0])], remainder='passthrough')\r\n",
        "x = np.array(ct.fit_transform(x))"
      ],
      "execution_count": null,
      "outputs": []
    },
    {
      "cell_type": "code",
      "metadata": {
        "colab": {
          "base_uri": "https://localhost:8080/"
        },
        "id": "Jrlg5A7Cufka",
        "outputId": "6eccdf0a-540a-4b64-96c9-103df1e4356e"
      },
      "source": [
        "print(x)"
      ],
      "execution_count": null,
      "outputs": [
        {
          "output_type": "stream",
          "text": [
            "[[0.0 1.0 0.0 21.0 72000.0]\n",
            " [1.0 0.0 0.0 22.0 48000.0]\n",
            " [0.0 0.0 1.0 22.0 54000.0]\n",
            " [1.0 0.0 0.0 24.0 61000.0]\n",
            " [0.0 1.0 0.0 21.0 63777.77777777778]\n",
            " [0.0 0.0 1.0 24.0 58000.0]\n",
            " [0.0 1.0 0.0 22.555555555555557 52000.0]\n",
            " [1.0 0.0 0.0 25.0 79000.0]\n",
            " [0.0 0.0 1.0 23.0 83000.0]\n",
            " [0.0 1.0 0.0 21.0 67000.0]]\n"
          ],
          "name": "stdout"
        }
      ]
    },
    {
      "cell_type": "code",
      "metadata": {
        "id": "VBsmQ6uQv61H"
      },
      "source": [
        "from sklearn.preprocessing import LabelEncoder\r\n",
        "le = LabelEncoder()\r\n",
        "y = le.fit_transform(y)"
      ],
      "execution_count": null,
      "outputs": []
    },
    {
      "cell_type": "code",
      "metadata": {
        "colab": {
          "base_uri": "https://localhost:8080/"
        },
        "id": "NNVWm0qrwMqv",
        "outputId": "7ff83a3b-ca3e-4d8d-dc08-a5d151d965ca"
      },
      "source": [
        "print(y)"
      ],
      "execution_count": null,
      "outputs": [
        {
          "output_type": "stream",
          "text": [
            "[0 1 0 0 1 1 0 1 0 1]\n"
          ],
          "name": "stdout"
        }
      ]
    },
    {
      "cell_type": "code",
      "metadata": {
        "id": "uebFM_3fwTu3"
      },
      "source": [
        "from sklearn.model_selection import train_test_split\r\n",
        "x_train, x_test, y_train, y_test = train_test_split(x, y, test_size = 0.2, random_state = 1)"
      ],
      "execution_count": null,
      "outputs": []
    },
    {
      "cell_type": "code",
      "metadata": {
        "colab": {
          "base_uri": "https://localhost:8080/"
        },
        "id": "L2gH6hvdwrCz",
        "outputId": "bda13d7d-3296-4920-96dd-66e2b19d8180"
      },
      "source": [
        "print(x_train)"
      ],
      "execution_count": null,
      "outputs": [
        {
          "output_type": "stream",
          "text": [
            "[[0.0 1.0 0.0 22.555555555555557 52000.0]\n",
            " [0.0 1.0 0.0 21.0 63777.77777777778]\n",
            " [0.0 1.0 0.0 21.0 72000.0]\n",
            " [1.0 0.0 0.0 24.0 61000.0]\n",
            " [1.0 0.0 0.0 22.0 48000.0]\n",
            " [1.0 0.0 0.0 25.0 79000.0]\n",
            " [0.0 0.0 1.0 23.0 83000.0]\n",
            " [0.0 0.0 1.0 24.0 58000.0]]\n"
          ],
          "name": "stdout"
        }
      ]
    },
    {
      "cell_type": "code",
      "metadata": {
        "colab": {
          "base_uri": "https://localhost:8080/"
        },
        "id": "jgkCY4DTwwVP",
        "outputId": "c0677ab2-4cc4-4765-9106-92c9c5262d94"
      },
      "source": [
        "print(x_test)"
      ],
      "execution_count": null,
      "outputs": [
        {
          "output_type": "stream",
          "text": [
            "[[0.0 0.0 1.0 22.0 54000.0]\n",
            " [0.0 1.0 0.0 21.0 67000.0]]\n"
          ],
          "name": "stdout"
        }
      ]
    },
    {
      "cell_type": "code",
      "metadata": {
        "colab": {
          "base_uri": "https://localhost:8080/"
        },
        "id": "4wkxjg0Iwy0A",
        "outputId": "93dbd009-6467-4c0f-d3f9-571d523fd1e8"
      },
      "source": [
        "print(y_train)"
      ],
      "execution_count": null,
      "outputs": [
        {
          "output_type": "stream",
          "text": [
            "[0 1 0 0 1 1 0 1]\n"
          ],
          "name": "stdout"
        }
      ]
    },
    {
      "cell_type": "code",
      "metadata": {
        "colab": {
          "base_uri": "https://localhost:8080/"
        },
        "id": "XDVIwcnvw0pJ",
        "outputId": "2a9ab2d8-67a1-48c5-f127-ae6164b27abd"
      },
      "source": [
        "print(y_test)"
      ],
      "execution_count": null,
      "outputs": [
        {
          "output_type": "stream",
          "text": [
            "[0 1]\n"
          ],
          "name": "stdout"
        }
      ]
    },
    {
      "cell_type": "code",
      "metadata": {
        "id": "hDhwM-Sew5cZ"
      },
      "source": [
        "from sklearn.preprocessing import StandardScaler\r\n",
        "sc = StandardScaler()\r\n",
        "x_train[:, 3:] = sc.fit_transform(x_train[:, 3:])\r\n",
        "x_test[:, 3:] = sc.fit_transform(x_test[:, 3:])"
      ],
      "execution_count": null,
      "outputs": []
    },
    {
      "cell_type": "code",
      "metadata": {
        "colab": {
          "base_uri": "https://localhost:8080/"
        },
        "id": "YQzL5ej2xX24",
        "outputId": "887cc4e0-ea34-464c-e997-3c0dd01f3f05"
      },
      "source": [
        "print(x_train)"
      ],
      "execution_count": null,
      "outputs": [
        {
          "output_type": "stream",
          "text": [
            "[[0.0 1.0 0.0 -0.1931249374124486 -1.0781259408412425]\n",
            " [0.0 1.0 0.0 -1.3315456211068972 -0.07013167641635372]\n",
            " [0.0 1.0 0.0 -1.3315456211068972 0.633562432710455]\n",
            " [1.0 0.0 0.0 0.8639799831609657 -0.30786617274297867]\n",
            " [1.0 0.0 0.0 -0.5997037530176095 -1.420463615551582]\n",
            " [1.0 0.0 0.0 1.5958218512502533 1.232653363453549]\n",
            " [0.0 0.0 1.0 0.13213811507167808 1.5749910381638885]\n",
            " [0.0 0.0 1.0 0.8639799831609657 -0.5646194287757332]]\n"
          ],
          "name": "stdout"
        }
      ]
    },
    {
      "cell_type": "code",
      "metadata": {
        "colab": {
          "base_uri": "https://localhost:8080/"
        },
        "id": "iX1yhupWxafg",
        "outputId": "85e4f3a8-443a-4974-aa3b-499f69eb16ef"
      },
      "source": [
        "print(x_test)"
      ],
      "execution_count": null,
      "outputs": [
        {
          "output_type": "stream",
          "text": [
            "[[0.0 0.0 1.0 1.0 -1.0]\n",
            " [0.0 1.0 0.0 -1.0 1.0]]\n"
          ],
          "name": "stdout"
        }
      ]
    }
  ]
}